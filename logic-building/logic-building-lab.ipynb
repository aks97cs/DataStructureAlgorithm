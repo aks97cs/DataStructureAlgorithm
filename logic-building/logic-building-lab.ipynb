{
 "cells": [
  {
   "cell_type": "markdown",
   "id": "bd528e45",
   "metadata": {},
   "source": [
    "# binary search [Iterative]"
   ]
  },
  {
   "cell_type": "code",
   "execution_count": 34,
   "id": "e9fd515a",
   "metadata": {},
   "outputs": [],
   "source": [
    "def func(arr, num) -> int:\n",
    "    low, high = 0, len(arr)-1\n",
    "    mid = (low+high)/2\n",
    "    while low<=high:\n",
    "        mid = int((low+high)/2)\n",
    "        if arr[mid] == num:\n",
    "            return f\"element found at index {mid}\"\n",
    "        if num < arr[mid]:\n",
    "            high = mid -1\n",
    "        else:\n",
    "            low = mid + 1\n",
    "    return \"Not Found\""
   ]
  },
  {
   "cell_type": "code",
   "execution_count": 37,
   "id": "f8061524",
   "metadata": {},
   "outputs": [
    {
     "data": {
      "text/plain": [
       "'Not Found'"
      ]
     },
     "execution_count": 37,
     "metadata": {},
     "output_type": "execute_result"
    }
   ],
   "source": [
    "func([1,2,3,4,5,6,7,8,9], 0)"
   ]
  },
  {
   "cell_type": "markdown",
   "id": "55b68a7f",
   "metadata": {},
   "source": [
    "# recusive"
   ]
  },
  {
   "cell_type": "code",
   "execution_count": 45,
   "id": "9bc1bbb9",
   "metadata": {},
   "outputs": [],
   "source": [
    "def recur(arr, num, low, high) -> int:\n",
    "    if not(low<=high):\n",
    "        return -1\n",
    "    mid = int((low+high)/2)\n",
    "    if arr[mid] == num:\n",
    "        return mid\n",
    "    if num < arr[mid]:\n",
    "        return recur(arr, num, low, mid-1)\n",
    "    else:\n",
    "        return recur(arr, num, mid+1, high)\n"
   ]
  },
  {
   "cell_type": "code",
   "execution_count": 49,
   "id": "45455ddf",
   "metadata": {},
   "outputs": [
    {
     "name": "stdout",
     "output_type": "stream",
     "text": [
      "4 8 0\n",
      "6 8 5\n",
      "7 8 7\n",
      "8 8 8\n"
     ]
    },
    {
     "data": {
      "text/plain": [
       "-1"
      ]
     },
     "execution_count": 49,
     "metadata": {},
     "output_type": "execute_result"
    }
   ],
   "source": [
    "recur([1,2,3,4,5,6,7,8,9], 99, 0, 8)"
   ]
  },
  {
   "cell_type": "markdown",
   "id": "d4952115",
   "metadata": {},
   "source": [
    "# index of last occurance"
   ]
  },
  {
   "cell_type": "code",
   "execution_count": null,
   "id": "9f6f3d1a",
   "metadata": {},
   "outputs": [],
   "source": []
  },
  {
   "cell_type": "code",
   "execution_count": null,
   "id": "dafcde19",
   "metadata": {},
   "outputs": [],
   "source": []
  }
 ],
 "metadata": {
  "kernelspec": {
   "display_name": "Python 3 (ipykernel)",
   "language": "python",
   "name": "python3"
  },
  "language_info": {
   "codemirror_mode": {
    "name": "ipython",
    "version": 3
   },
   "file_extension": ".py",
   "mimetype": "text/x-python",
   "name": "python",
   "nbconvert_exporter": "python",
   "pygments_lexer": "ipython3",
   "version": "3.9.8"
  }
 },
 "nbformat": 4,
 "nbformat_minor": 5
}
